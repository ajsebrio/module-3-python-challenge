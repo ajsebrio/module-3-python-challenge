{
 "cells": [
  {
   "cell_type": "code",
   "execution_count": 1,
   "id": "5f371f0d",
   "metadata": {},
   "outputs": [
    {
     "name": "stdout",
     "output_type": "stream",
     "text": [
      "Financial Analysis\n",
      "----------------------------\n",
      "Total Months: 86\n",
      "Total: $22564198\n",
      "Average Change: $-8311.11\n",
      "Greatest Increase in Profits: Aug-16 ($1862002)\n",
      "Greatest Decrease in Profits: Feb-14 ($-1825558)\n"
     ]
    }
   ],
   "source": [
    "import os\n",
    "import csv\n",
    "\n",
    "pybank_csv = os.path.join('.', 'Resources', 'budget_data.csv')\n",
    "\n",
    "output_file = os.path.join('.', 'financial_analysis.txt')\n",
    "\n",
    "total_months = 0\n",
    "total_amount = 0\n",
    "\n",
    "net_change_list = []\n",
    "month_of_changes = []\n",
    "\n",
    "greatest_increase = [\"\", 0]\n",
    "greatest_decrease = [\"\" , 100000000000000000000000]\n",
    "\n",
    "with open(pybank_csv) as budget_data:\n",
    "    \n",
    "    reader = csv.reader(budget_data, delimiter=',')\n",
    "    csv_header = next(reader)\n",
    "    \n",
    "    \n",
    "    first_row = next(reader)\n",
    "    total_amount += int(first_row[1])\n",
    "    previous_net = int(first_row[1])\n",
    "    total_months += 1\n",
    "    \n",
    "    for rows in reader:\n",
    "        \n",
    "        # calculate total months\n",
    "        total_months += 1\n",
    "        \n",
    "        # calculate total\n",
    "        total_amount += int(rows[1])\n",
    "        \n",
    "        # calculate the changes in “Profit/Losses” over the entire period, and then the average of those changes\n",
    "        net_change = int(rows[1]) - previous_net\n",
    "        previous_net = int(rows[1])\n",
    "        net_change_list.append(net_change)\n",
    "        net_monthly_average = round((sum(net_change_list) / len(net_change_list)), 2)\n",
    "       \n",
    "    \n",
    "        # The greatest increase in profits (date and amount) over the entire period\n",
    "        if(net_change > greatest_increase[1]):\n",
    "                greatest_increase[0] = rows[0]\n",
    "                greatest_increase[1] = net_change\n",
    "        \n",
    "        \n",
    "        # The greatest decrease in profits (date and amount) over the entire period\n",
    "        if(net_change < greatest_decrease[1]):\n",
    "                greatest_decrease[0] = rows[0]\n",
    "                greatest_decrease[1] = net_change\n",
    "  \n",
    "        \n",
    "output = (\n",
    "    f\"Financial Analysis\\n\"\n",
    "    f\"----------------------------\\n\"\n",
    "    f\"Total Months: {total_months}\\n\"\n",
    "    f\"Total: ${total_amount}\\n\"\n",
    "    f\"Average Change: ${net_monthly_average}\\n\"\n",
    "    f\"Greatest Increase in Profits: {greatest_increase[0]} (${greatest_increase[1]})\\n\"\n",
    "    f\"Greatest Decrease in Profits: {greatest_decrease[0]} (${greatest_decrease[1]})\"\n",
    ")\n",
    "\n",
    "print(output)\n",
    "\n",
    "with open(output_file, 'w') as txt_file:\n",
    "    txt_file.write(output)\n",
    "              "
   ]
  },
  {
   "cell_type": "code",
   "execution_count": null,
   "id": "460c33b0",
   "metadata": {},
   "outputs": [],
   "source": []
  }
 ],
 "metadata": {
  "kernelspec": {
   "display_name": "Python 3 (ipykernel)",
   "language": "python",
   "name": "python3"
  },
  "language_info": {
   "codemirror_mode": {
    "name": "ipython",
    "version": 3
   },
   "file_extension": ".py",
   "mimetype": "text/x-python",
   "name": "python",
   "nbconvert_exporter": "python",
   "pygments_lexer": "ipython3",
   "version": "3.11.4"
  }
 },
 "nbformat": 4,
 "nbformat_minor": 5
}
